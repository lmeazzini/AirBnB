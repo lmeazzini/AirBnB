{
 "cells": [
  {
   "cell_type": "markdown",
   "metadata": {},
   "source": [
    "# Importando bibliotecas"
   ]
  },
  {
   "cell_type": "code",
   "execution_count": 1,
   "metadata": {},
   "outputs": [],
   "source": [
    "import pandas as pd\n",
    "import numpy as np\n",
    "import seaborn as sns\n",
    "import matplotlib.pyplot as plt\n",
    "import collections\n",
    "%matplotlib inline"
   ]
  },
  {
   "cell_type": "markdown",
   "metadata": {},
   "source": [
    "# Lendo dados "
   ]
  },
  {
   "cell_type": "code",
   "execution_count": 2,
   "metadata": {},
   "outputs": [
    {
     "name": "stderr",
     "output_type": "stream",
     "text": [
      "/home/luis/anaconda3/envs/airbnb/lib/python3.7/site-packages/IPython/core/interactiveshell.py:3063: DtypeWarning: Columns (61,62,94) have mixed types.Specify dtype option on import or set low_memory=False.\n",
      "  interactivity=interactivity, compiler=compiler, result=result)\n"
     ]
    }
   ],
   "source": [
    "listings = pd.read_csv('listings.csv')\n",
    "reviews = pd.read_csv('reviews.csv')\n",
    "calendar = pd.read_csv('calendar.csv')"
   ]
  },
  {
   "cell_type": "code",
   "execution_count": 3,
   "metadata": {},
   "outputs": [
    {
     "data": {
      "text/html": [
       "<div>\n",
       "<style scoped>\n",
       "    .dataframe tbody tr th:only-of-type {\n",
       "        vertical-align: middle;\n",
       "    }\n",
       "\n",
       "    .dataframe tbody tr th {\n",
       "        vertical-align: top;\n",
       "    }\n",
       "\n",
       "    .dataframe thead th {\n",
       "        text-align: right;\n",
       "    }\n",
       "</style>\n",
       "<table border=\"1\" class=\"dataframe\">\n",
       "  <thead>\n",
       "    <tr style=\"text-align: right;\">\n",
       "      <th></th>\n",
       "      <th>id</th>\n",
       "      <th>listing_url</th>\n",
       "      <th>scrape_id</th>\n",
       "      <th>last_scraped</th>\n",
       "      <th>name</th>\n",
       "      <th>summary</th>\n",
       "      <th>space</th>\n",
       "      <th>description</th>\n",
       "      <th>experiences_offered</th>\n",
       "      <th>neighborhood_overview</th>\n",
       "      <th>...</th>\n",
       "      <th>instant_bookable</th>\n",
       "      <th>is_business_travel_ready</th>\n",
       "      <th>cancellation_policy</th>\n",
       "      <th>require_guest_profile_picture</th>\n",
       "      <th>require_guest_phone_verification</th>\n",
       "      <th>calculated_host_listings_count</th>\n",
       "      <th>calculated_host_listings_count_entire_homes</th>\n",
       "      <th>calculated_host_listings_count_private_rooms</th>\n",
       "      <th>calculated_host_listings_count_shared_rooms</th>\n",
       "      <th>reviews_per_month</th>\n",
       "    </tr>\n",
       "  </thead>\n",
       "  <tbody>\n",
       "    <tr>\n",
       "      <th>0</th>\n",
       "      <td>17878</td>\n",
       "      <td>https://www.airbnb.com/rooms/17878</td>\n",
       "      <td>20191122092441</td>\n",
       "      <td>2019-11-22</td>\n",
       "      <td>Very Nice 2Br - Copacabana - WiFi</td>\n",
       "      <td>Pls note that special rates apply for Carnival...</td>\n",
       "      <td>- large balcony which looks out on pedestrian ...</td>\n",
       "      <td>Pls note that special rates apply for Carnival...</td>\n",
       "      <td>none</td>\n",
       "      <td>This is the best spot in Rio. Everything happe...</td>\n",
       "      <td>...</td>\n",
       "      <td>t</td>\n",
       "      <td>f</td>\n",
       "      <td>strict_14_with_grace_period</td>\n",
       "      <td>f</td>\n",
       "      <td>f</td>\n",
       "      <td>1</td>\n",
       "      <td>1</td>\n",
       "      <td>0</td>\n",
       "      <td>0</td>\n",
       "      <td>2.13</td>\n",
       "    </tr>\n",
       "    <tr>\n",
       "      <th>1</th>\n",
       "      <td>25026</td>\n",
       "      <td>https://www.airbnb.com/rooms/25026</td>\n",
       "      <td>20191122092441</td>\n",
       "      <td>2019-11-22</td>\n",
       "      <td>Beautiful Modern Decorated Studio in Copa</td>\n",
       "      <td>Our apartment is a little gem, everyone loves ...</td>\n",
       "      <td>This newly renovated studio (last renovations ...</td>\n",
       "      <td>Our apartment is a little gem, everyone loves ...</td>\n",
       "      <td>none</td>\n",
       "      <td>Copacabana is a lively neighborhood and the ap...</td>\n",
       "      <td>...</td>\n",
       "      <td>f</td>\n",
       "      <td>f</td>\n",
       "      <td>strict_14_with_grace_period</td>\n",
       "      <td>t</td>\n",
       "      <td>t</td>\n",
       "      <td>3</td>\n",
       "      <td>3</td>\n",
       "      <td>0</td>\n",
       "      <td>0</td>\n",
       "      <td>2.04</td>\n",
       "    </tr>\n",
       "    <tr>\n",
       "      <th>2</th>\n",
       "      <td>31560</td>\n",
       "      <td>https://www.airbnb.com/rooms/31560</td>\n",
       "      <td>20191122092441</td>\n",
       "      <td>2019-11-22</td>\n",
       "      <td>NICE &amp; COZY 1BDR - IPANEMA BEACH</td>\n",
       "      <td>This nice and clean 1 bedroom apartment is loc...</td>\n",
       "      <td>This nice and clean 1 bedroom apartment is loc...</td>\n",
       "      <td>This nice and clean 1 bedroom apartment is loc...</td>\n",
       "      <td>none</td>\n",
       "      <td>Die Nachbarschaft von Ipanema ist super lebend...</td>\n",
       "      <td>...</td>\n",
       "      <td>t</td>\n",
       "      <td>f</td>\n",
       "      <td>strict_14_with_grace_period</td>\n",
       "      <td>f</td>\n",
       "      <td>f</td>\n",
       "      <td>1</td>\n",
       "      <td>1</td>\n",
       "      <td>0</td>\n",
       "      <td>0</td>\n",
       "      <td>2.38</td>\n",
       "    </tr>\n",
       "    <tr>\n",
       "      <th>3</th>\n",
       "      <td>35636</td>\n",
       "      <td>https://www.airbnb.com/rooms/35636</td>\n",
       "      <td>20191122092441</td>\n",
       "      <td>2019-11-22</td>\n",
       "      <td>Cosy flat close to Ipanema beach</td>\n",
       "      <td>This cosy apartment  is just a few steps away ...</td>\n",
       "      <td>The location is extremely convenient, safe and...</td>\n",
       "      <td>This cosy apartment  is just a few steps away ...</td>\n",
       "      <td>none</td>\n",
       "      <td>The  apartment street is very quiet and safe ....</td>\n",
       "      <td>...</td>\n",
       "      <td>f</td>\n",
       "      <td>f</td>\n",
       "      <td>strict_14_with_grace_period</td>\n",
       "      <td>t</td>\n",
       "      <td>t</td>\n",
       "      <td>1</td>\n",
       "      <td>1</td>\n",
       "      <td>0</td>\n",
       "      <td>0</td>\n",
       "      <td>2.28</td>\n",
       "    </tr>\n",
       "    <tr>\n",
       "      <th>4</th>\n",
       "      <td>35764</td>\n",
       "      <td>https://www.airbnb.com/rooms/35764</td>\n",
       "      <td>20191122092441</td>\n",
       "      <td>2019-11-22</td>\n",
       "      <td>COPACABANA SEA BREEZE  -  RIO - 20 X Superhost</td>\n",
       "      <td>Our newly renovated studio is located in the b...</td>\n",
       "      <td>FEEL LIKE YOUR HOME LIVING AS \"CARIOCA\" LOCAL ...</td>\n",
       "      <td>Our newly renovated studio is located in the b...</td>\n",
       "      <td>none</td>\n",
       "      <td>Our guests will experience living with a local...</td>\n",
       "      <td>...</td>\n",
       "      <td>f</td>\n",
       "      <td>f</td>\n",
       "      <td>strict_14_with_grace_period</td>\n",
       "      <td>f</td>\n",
       "      <td>t</td>\n",
       "      <td>1</td>\n",
       "      <td>1</td>\n",
       "      <td>0</td>\n",
       "      <td>0</td>\n",
       "      <td>2.84</td>\n",
       "    </tr>\n",
       "  </tbody>\n",
       "</table>\n",
       "<p>5 rows × 106 columns</p>\n",
       "</div>"
      ],
      "text/plain": [
       "      id                         listing_url       scrape_id last_scraped  \\\n",
       "0  17878  https://www.airbnb.com/rooms/17878  20191122092441   2019-11-22   \n",
       "1  25026  https://www.airbnb.com/rooms/25026  20191122092441   2019-11-22   \n",
       "2  31560  https://www.airbnb.com/rooms/31560  20191122092441   2019-11-22   \n",
       "3  35636  https://www.airbnb.com/rooms/35636  20191122092441   2019-11-22   \n",
       "4  35764  https://www.airbnb.com/rooms/35764  20191122092441   2019-11-22   \n",
       "\n",
       "                                             name  \\\n",
       "0               Very Nice 2Br - Copacabana - WiFi   \n",
       "1       Beautiful Modern Decorated Studio in Copa   \n",
       "2                NICE & COZY 1BDR - IPANEMA BEACH   \n",
       "3                Cosy flat close to Ipanema beach   \n",
       "4  COPACABANA SEA BREEZE  -  RIO - 20 X Superhost   \n",
       "\n",
       "                                             summary  \\\n",
       "0  Pls note that special rates apply for Carnival...   \n",
       "1  Our apartment is a little gem, everyone loves ...   \n",
       "2  This nice and clean 1 bedroom apartment is loc...   \n",
       "3  This cosy apartment  is just a few steps away ...   \n",
       "4  Our newly renovated studio is located in the b...   \n",
       "\n",
       "                                               space  \\\n",
       "0  - large balcony which looks out on pedestrian ...   \n",
       "1  This newly renovated studio (last renovations ...   \n",
       "2  This nice and clean 1 bedroom apartment is loc...   \n",
       "3  The location is extremely convenient, safe and...   \n",
       "4  FEEL LIKE YOUR HOME LIVING AS \"CARIOCA\" LOCAL ...   \n",
       "\n",
       "                                         description experiences_offered  \\\n",
       "0  Pls note that special rates apply for Carnival...                none   \n",
       "1  Our apartment is a little gem, everyone loves ...                none   \n",
       "2  This nice and clean 1 bedroom apartment is loc...                none   \n",
       "3  This cosy apartment  is just a few steps away ...                none   \n",
       "4  Our newly renovated studio is located in the b...                none   \n",
       "\n",
       "                               neighborhood_overview  ... instant_bookable  \\\n",
       "0  This is the best spot in Rio. Everything happe...  ...                t   \n",
       "1  Copacabana is a lively neighborhood and the ap...  ...                f   \n",
       "2  Die Nachbarschaft von Ipanema ist super lebend...  ...                t   \n",
       "3  The  apartment street is very quiet and safe ....  ...                f   \n",
       "4  Our guests will experience living with a local...  ...                f   \n",
       "\n",
       "  is_business_travel_ready          cancellation_policy  \\\n",
       "0                        f  strict_14_with_grace_period   \n",
       "1                        f  strict_14_with_grace_period   \n",
       "2                        f  strict_14_with_grace_period   \n",
       "3                        f  strict_14_with_grace_period   \n",
       "4                        f  strict_14_with_grace_period   \n",
       "\n",
       "  require_guest_profile_picture require_guest_phone_verification  \\\n",
       "0                             f                                f   \n",
       "1                             t                                t   \n",
       "2                             f                                f   \n",
       "3                             t                                t   \n",
       "4                             f                                t   \n",
       "\n",
       "   calculated_host_listings_count  \\\n",
       "0                               1   \n",
       "1                               3   \n",
       "2                               1   \n",
       "3                               1   \n",
       "4                               1   \n",
       "\n",
       "   calculated_host_listings_count_entire_homes  \\\n",
       "0                                            1   \n",
       "1                                            3   \n",
       "2                                            1   \n",
       "3                                            1   \n",
       "4                                            1   \n",
       "\n",
       "  calculated_host_listings_count_private_rooms  \\\n",
       "0                                            0   \n",
       "1                                            0   \n",
       "2                                            0   \n",
       "3                                            0   \n",
       "4                                            0   \n",
       "\n",
       "   calculated_host_listings_count_shared_rooms  reviews_per_month  \n",
       "0                                            0               2.13  \n",
       "1                                            0               2.04  \n",
       "2                                            0               2.38  \n",
       "3                                            0               2.28  \n",
       "4                                            0               2.84  \n",
       "\n",
       "[5 rows x 106 columns]"
      ]
     },
     "execution_count": 3,
     "metadata": {},
     "output_type": "execute_result"
    }
   ],
   "source": [
    "listings.head()"
   ]
  },
  {
   "cell_type": "code",
   "execution_count": 4,
   "metadata": {},
   "outputs": [
    {
     "data": {
      "text/html": [
       "<div>\n",
       "<style scoped>\n",
       "    .dataframe tbody tr th:only-of-type {\n",
       "        vertical-align: middle;\n",
       "    }\n",
       "\n",
       "    .dataframe tbody tr th {\n",
       "        vertical-align: top;\n",
       "    }\n",
       "\n",
       "    .dataframe thead th {\n",
       "        text-align: right;\n",
       "    }\n",
       "</style>\n",
       "<table border=\"1\" class=\"dataframe\">\n",
       "  <thead>\n",
       "    <tr style=\"text-align: right;\">\n",
       "      <th></th>\n",
       "      <th>listing_id</th>\n",
       "      <th>id</th>\n",
       "      <th>date</th>\n",
       "      <th>reviewer_id</th>\n",
       "      <th>reviewer_name</th>\n",
       "      <th>comments</th>\n",
       "    </tr>\n",
       "  </thead>\n",
       "  <tbody>\n",
       "    <tr>\n",
       "      <th>0</th>\n",
       "      <td>17878</td>\n",
       "      <td>64852</td>\n",
       "      <td>2010-07-15</td>\n",
       "      <td>135370</td>\n",
       "      <td>Tia</td>\n",
       "      <td>This apartment is in a perfect location -- two...</td>\n",
       "    </tr>\n",
       "    <tr>\n",
       "      <th>1</th>\n",
       "      <td>17878</td>\n",
       "      <td>76744</td>\n",
       "      <td>2010-08-11</td>\n",
       "      <td>10206</td>\n",
       "      <td>Mimi</td>\n",
       "      <td>we had a really great experience staying in Ma...</td>\n",
       "    </tr>\n",
       "    <tr>\n",
       "      <th>2</th>\n",
       "      <td>17878</td>\n",
       "      <td>91074</td>\n",
       "      <td>2010-09-06</td>\n",
       "      <td>80253</td>\n",
       "      <td>Jan</td>\n",
       "      <td>Staying in Max appartment is like living in a ...</td>\n",
       "    </tr>\n",
       "    <tr>\n",
       "      <th>3</th>\n",
       "      <td>17878</td>\n",
       "      <td>137528</td>\n",
       "      <td>2010-11-12</td>\n",
       "      <td>230449</td>\n",
       "      <td>Orene</td>\n",
       "      <td>In general very good and reasonable price.\\r\\n...</td>\n",
       "    </tr>\n",
       "    <tr>\n",
       "      <th>4</th>\n",
       "      <td>17878</td>\n",
       "      <td>147594</td>\n",
       "      <td>2010-12-01</td>\n",
       "      <td>219338</td>\n",
       "      <td>David</td>\n",
       "      <td>The apt was nice and in a great location only ...</td>\n",
       "    </tr>\n",
       "  </tbody>\n",
       "</table>\n",
       "</div>"
      ],
      "text/plain": [
       "   listing_id      id        date  reviewer_id reviewer_name  \\\n",
       "0       17878   64852  2010-07-15       135370           Tia   \n",
       "1       17878   76744  2010-08-11        10206          Mimi   \n",
       "2       17878   91074  2010-09-06        80253           Jan   \n",
       "3       17878  137528  2010-11-12       230449         Orene   \n",
       "4       17878  147594  2010-12-01       219338         David   \n",
       "\n",
       "                                            comments  \n",
       "0  This apartment is in a perfect location -- two...  \n",
       "1  we had a really great experience staying in Ma...  \n",
       "2  Staying in Max appartment is like living in a ...  \n",
       "3  In general very good and reasonable price.\\r\\n...  \n",
       "4  The apt was nice and in a great location only ...  "
      ]
     },
     "execution_count": 4,
     "metadata": {},
     "output_type": "execute_result"
    }
   ],
   "source": [
    "reviews.head()"
   ]
  },
  {
   "cell_type": "code",
   "execution_count": 5,
   "metadata": {},
   "outputs": [
    {
     "data": {
      "text/html": [
       "<div>\n",
       "<style scoped>\n",
       "    .dataframe tbody tr th:only-of-type {\n",
       "        vertical-align: middle;\n",
       "    }\n",
       "\n",
       "    .dataframe tbody tr th {\n",
       "        vertical-align: top;\n",
       "    }\n",
       "\n",
       "    .dataframe thead th {\n",
       "        text-align: right;\n",
       "    }\n",
       "</style>\n",
       "<table border=\"1\" class=\"dataframe\">\n",
       "  <thead>\n",
       "    <tr style=\"text-align: right;\">\n",
       "      <th></th>\n",
       "      <th>listing_id</th>\n",
       "      <th>date</th>\n",
       "      <th>available</th>\n",
       "      <th>price</th>\n",
       "      <th>adjusted_price</th>\n",
       "      <th>minimum_nights</th>\n",
       "      <th>maximum_nights</th>\n",
       "    </tr>\n",
       "  </thead>\n",
       "  <tbody>\n",
       "    <tr>\n",
       "      <th>0</th>\n",
       "      <td>3042602</td>\n",
       "      <td>2019-11-22</td>\n",
       "      <td>t</td>\n",
       "      <td>$1,679.00</td>\n",
       "      <td>$1,679.00</td>\n",
       "      <td>1.0</td>\n",
       "      <td>1125.0</td>\n",
       "    </tr>\n",
       "    <tr>\n",
       "      <th>1</th>\n",
       "      <td>3042602</td>\n",
       "      <td>2019-11-23</td>\n",
       "      <td>t</td>\n",
       "      <td>$1,679.00</td>\n",
       "      <td>$1,679.00</td>\n",
       "      <td>1.0</td>\n",
       "      <td>1125.0</td>\n",
       "    </tr>\n",
       "    <tr>\n",
       "      <th>2</th>\n",
       "      <td>3042602</td>\n",
       "      <td>2019-11-24</td>\n",
       "      <td>t</td>\n",
       "      <td>$1,679.00</td>\n",
       "      <td>$1,679.00</td>\n",
       "      <td>1.0</td>\n",
       "      <td>1125.0</td>\n",
       "    </tr>\n",
       "    <tr>\n",
       "      <th>3</th>\n",
       "      <td>3042602</td>\n",
       "      <td>2019-11-25</td>\n",
       "      <td>t</td>\n",
       "      <td>$1,679.00</td>\n",
       "      <td>$1,679.00</td>\n",
       "      <td>1.0</td>\n",
       "      <td>1125.0</td>\n",
       "    </tr>\n",
       "    <tr>\n",
       "      <th>4</th>\n",
       "      <td>3042602</td>\n",
       "      <td>2019-11-26</td>\n",
       "      <td>t</td>\n",
       "      <td>$1,679.00</td>\n",
       "      <td>$1,679.00</td>\n",
       "      <td>1.0</td>\n",
       "      <td>1125.0</td>\n",
       "    </tr>\n",
       "  </tbody>\n",
       "</table>\n",
       "</div>"
      ],
      "text/plain": [
       "   listing_id        date available      price adjusted_price  minimum_nights  \\\n",
       "0     3042602  2019-11-22         t  $1,679.00      $1,679.00             1.0   \n",
       "1     3042602  2019-11-23         t  $1,679.00      $1,679.00             1.0   \n",
       "2     3042602  2019-11-24         t  $1,679.00      $1,679.00             1.0   \n",
       "3     3042602  2019-11-25         t  $1,679.00      $1,679.00             1.0   \n",
       "4     3042602  2019-11-26         t  $1,679.00      $1,679.00             1.0   \n",
       "\n",
       "   maximum_nights  \n",
       "0          1125.0  \n",
       "1          1125.0  \n",
       "2          1125.0  \n",
       "3          1125.0  \n",
       "4          1125.0  "
      ]
     },
     "execution_count": 5,
     "metadata": {},
     "output_type": "execute_result"
    }
   ],
   "source": [
    "calendar.head()"
   ]
  },
  {
   "cell_type": "markdown",
   "metadata": {},
   "source": [
    "# Limpeza de dados"
   ]
  },
  {
   "cell_type": "markdown",
   "metadata": {},
   "source": [
    "Como o arquivo de listings tem muitas columas, vamos ver o que está em cada uma delas."
   ]
  },
  {
   "cell_type": "code",
   "execution_count": 6,
   "metadata": {},
   "outputs": [
    {
     "name": "stdout",
     "output_type": "stream",
     "text": [
      "106\n",
      "['id', 'listing_url', 'scrape_id', 'last_scraped', 'name', 'summary', 'space', 'description', 'experiences_offered', 'neighborhood_overview', 'notes', 'transit', 'access', 'interaction', 'house_rules', 'thumbnail_url', 'medium_url', 'picture_url', 'xl_picture_url', 'host_id', 'host_url', 'host_name', 'host_since', 'host_location', 'host_about', 'host_response_time', 'host_response_rate', 'host_acceptance_rate', 'host_is_superhost', 'host_thumbnail_url', 'host_picture_url', 'host_neighbourhood', 'host_listings_count', 'host_total_listings_count', 'host_verifications', 'host_has_profile_pic', 'host_identity_verified', 'street', 'neighbourhood', 'neighbourhood_cleansed', 'neighbourhood_group_cleansed', 'city', 'state', 'zipcode', 'market', 'smart_location', 'country_code', 'country', 'latitude', 'longitude', 'is_location_exact', 'property_type', 'room_type', 'accommodates', 'bathrooms', 'bedrooms', 'beds', 'bed_type', 'amenities', 'square_feet', 'price', 'weekly_price', 'monthly_price', 'security_deposit', 'cleaning_fee', 'guests_included', 'extra_people', 'minimum_nights', 'maximum_nights', 'minimum_minimum_nights', 'maximum_minimum_nights', 'minimum_maximum_nights', 'maximum_maximum_nights', 'minimum_nights_avg_ntm', 'maximum_nights_avg_ntm', 'calendar_updated', 'has_availability', 'availability_30', 'availability_60', 'availability_90', 'availability_365', 'calendar_last_scraped', 'number_of_reviews', 'number_of_reviews_ltm', 'first_review', 'last_review', 'review_scores_rating', 'review_scores_accuracy', 'review_scores_cleanliness', 'review_scores_checkin', 'review_scores_communication', 'review_scores_location', 'review_scores_value', 'requires_license', 'license', 'jurisdiction_names', 'instant_bookable', 'is_business_travel_ready', 'cancellation_policy', 'require_guest_profile_picture', 'require_guest_phone_verification', 'calculated_host_listings_count', 'calculated_host_listings_count_entire_homes', 'calculated_host_listings_count_private_rooms', 'calculated_host_listings_count_shared_rooms', 'reviews_per_month']\n"
     ]
    }
   ],
   "source": [
    "print(len(listings.columns))\n",
    "print(list(listings.columns))"
   ]
  },
  {
   "cell_type": "markdown",
   "metadata": {},
   "source": [
    "Algumas destas colunas parecem ser binárias. Vamos ver o que há nestes dados."
   ]
  },
  {
   "cell_type": "code",
   "execution_count": 7,
   "metadata": {},
   "outputs": [
    {
     "data": {
      "text/plain": [
       "array(['t', 'f'], dtype=object)"
      ]
     },
     "execution_count": 7,
     "metadata": {},
     "output_type": "execute_result"
    }
   ],
   "source": [
    "listings['is_location_exact'].unique()"
   ]
  },
  {
   "cell_type": "markdown",
   "metadata": {},
   "source": [
    "Os dados binários estão apresentados com 't' (True) e 'f' (False). Para melhor interpretá-los, é melhor que sejam variáveis binárias (1 e 0). Vamos então realizar esta conversão."
   ]
  },
  {
   "cell_type": "code",
   "execution_count": 8,
   "metadata": {},
   "outputs": [],
   "source": [
    "binary_cols = ['host_is_superhost', 'host_identity_verified', 'is_location_exact',\n",
    "               'has_availability', 'requires_license', 'instant_bookable',\n",
    "               'is_business_travel_ready', 'require_guest_profile_picture',\n",
    "               'require_guest_phone_verification',  'host_has_profile_pic']\n",
    "\n",
    "for col in binary_cols:\n",
    "    listings[col] = listings[col].apply(lambda x: 1 if x == 't' else 0)"
   ]
  },
  {
   "cell_type": "markdown",
   "metadata": {},
   "source": [
    "Na Coluna de avaliações por mês existem muitos valores nulos. Podemos interpretar que os valores nulos correspondem a zero."
   ]
  },
  {
   "cell_type": "code",
   "execution_count": 9,
   "metadata": {},
   "outputs": [],
   "source": [
    "listings['reviews_per_month'].fillna(0, inplace=True)"
   ]
  },
  {
   "cell_type": "markdown",
   "metadata": {},
   "source": [
    "As variáveis de preço estão com um $ em todos os valores, devemos converter estes dados para pontos flutuantes (Float)"
   ]
  },
  {
   "cell_type": "code",
   "execution_count": 10,
   "metadata": {},
   "outputs": [],
   "source": [
    "listings['price'] = listings['price'].replace('[\\$,)]', '', regex=True).astype(float)\n",
    "listings['security_deposit'] = listings['security_deposit'].replace('[\\$,)]', '', regex=True).astype(float)\n",
    "listings['extra_people'] = listings['extra_people'].replace('[\\$,)]', '', regex=True).astype(float)\n",
    "listings['cleaning_fee'] = listings['cleaning_fee'].replace('[\\$,)]', '', regex=True).astype(float)"
   ]
  },
  {
   "cell_type": "markdown",
   "metadata": {},
   "source": [
    "Como diversas colunas são dados textuais, estas teriam de receber um tratamento especial, possivelmente envolvendo processamento de linguagem natural (NLP), mas para manter nosso modelo simples, vamos descartar estas informações. Possíveis abordagens para extrair features relevantes destes campos seriam a utilização de palavras chaves, Word2Vec, mecanismos de análise de sentimentos, etc."
   ]
  },
  {
   "cell_type": "code",
   "execution_count": 11,
   "metadata": {},
   "outputs": [],
   "source": [
    "string_cols = ['listing_url', 'scrape_id', 'last_scraped', 'name', 'summary', 'space', 'description',\n",
    "               'neighborhood_overview', 'notes', 'transit', 'access', 'interaction', 'house_rules',\n",
    "               'thumbnail_url', 'medium_url', 'picture_url', 'xl_picture_url', 'host_id', 'host_url',\n",
    "               'host_name', 'host_location', 'host_about', 'host_thumbnail_url', 'host_picture_url',\n",
    "               'host_neighbourhood', 'host_verifications', 'calendar_last_scraped', 'calendar_updated']\n",
    "listings = listings.drop(string_cols, axis=1)"
   ]
  },
  {
   "cell_type": "markdown",
   "metadata": {},
   "source": [
    "Se existem colunas constantes, podemos descartá-las"
   ]
  },
  {
   "cell_type": "code",
   "execution_count": 12,
   "metadata": {},
   "outputs": [],
   "source": [
    "listings = listings.drop([x for x in listings.columns if listings[x].nunique() < 2], axis=1)"
   ]
  },
  {
   "cell_type": "markdown",
   "metadata": {},
   "source": [
    "Como nossos dados foram recolhidos selecionando apenas a cidade do Rio de Janeiro, podemos descartar algumas informações relativas a localização."
   ]
  },
  {
   "cell_type": "code",
   "execution_count": 13,
   "metadata": {},
   "outputs": [],
   "source": [
    "drop_cols = ['city', 'state', 'zipcode', 'market', 'smart_location',\n",
    "             'country_code', 'country', 'street', 'neighbourhood_cleansed']\n",
    "listings = listings.drop(drop_cols, axis=1)"
   ]
  },
  {
   "cell_type": "markdown",
   "metadata": {},
   "source": [
    "Quase sempre é bastante útil extrair features de datas, por exemplo para extrair dados de sasonalidade. No entanto, para manter nosso modelo simples, vamos descartar estes dados."
   ]
  },
  {
   "cell_type": "code",
   "execution_count": 14,
   "metadata": {},
   "outputs": [],
   "source": [
    "drop_cols = ['host_since', 'first_review', 'last_review']\n",
    "listings = listings.drop(drop_cols, axis=1)"
   ]
  },
  {
   "cell_type": "markdown",
   "metadata": {},
   "source": [
    "A variável 'host_response_rate' está como uma string. Ela pode ser convertida para um número para ser melhor interpretado por nossos modelos. Note que existem valores nulos nesta coluna, mas ainda não irei tratá-los."
   ]
  },
  {
   "cell_type": "code",
   "execution_count": 15,
   "metadata": {},
   "outputs": [],
   "source": [
    "host_response_rate = []\n",
    "for p in listings['host_response_rate']:\n",
    "    if type(p) == str:\n",
    "        host_response_rate.append(float(p.replace('%', '')))\n",
    "    else:\n",
    "        host_response_rate.append(p)\n",
    "listings['host_response_rate'] = host_response_rate"
   ]
  },
  {
   "cell_type": "markdown",
   "metadata": {},
   "source": [
    "Algumas informações sobre os dados que ainda temos:"
   ]
  },
  {
   "cell_type": "code",
   "execution_count": 16,
   "metadata": {},
   "outputs": [
    {
     "name": "stdout",
     "output_type": "stream",
     "text": [
      "<class 'pandas.core.frame.DataFrame'>\n",
      "RangeIndex: 33715 entries, 0 to 33714\n",
      "Data columns (total 59 columns):\n",
      " #   Column                                        Non-Null Count  Dtype  \n",
      "---  ------                                        --------------  -----  \n",
      " 0   id                                            33715 non-null  int64  \n",
      " 1   host_response_time                            21481 non-null  object \n",
      " 2   host_response_rate                            21481 non-null  float64\n",
      " 3   host_is_superhost                             33715 non-null  int64  \n",
      " 4   host_listings_count                           33695 non-null  float64\n",
      " 5   host_total_listings_count                     33695 non-null  float64\n",
      " 6   host_has_profile_pic                          33715 non-null  int64  \n",
      " 7   host_identity_verified                        33715 non-null  int64  \n",
      " 8   neighbourhood                                 31757 non-null  object \n",
      " 9   latitude                                      33715 non-null  float64\n",
      " 10  longitude                                     33715 non-null  float64\n",
      " 11  is_location_exact                             33715 non-null  int64  \n",
      " 12  property_type                                 33715 non-null  object \n",
      " 13  room_type                                     33715 non-null  object \n",
      " 14  accommodates                                  33715 non-null  int64  \n",
      " 15  bathrooms                                     33661 non-null  float64\n",
      " 16  bedrooms                                      33673 non-null  float64\n",
      " 17  beds                                          33667 non-null  float64\n",
      " 18  bed_type                                      33715 non-null  object \n",
      " 19  amenities                                     33715 non-null  object \n",
      " 20  square_feet                                   495 non-null    float64\n",
      " 21  price                                         33715 non-null  float64\n",
      " 22  weekly_price                                  2546 non-null   object \n",
      " 23  monthly_price                                 2825 non-null   object \n",
      " 24  security_deposit                              18935 non-null  float64\n",
      " 25  cleaning_fee                                  22731 non-null  float64\n",
      " 26  guests_included                               33715 non-null  int64  \n",
      " 27  extra_people                                  33715 non-null  float64\n",
      " 28  minimum_nights                                33715 non-null  int64  \n",
      " 29  maximum_nights                                33715 non-null  int64  \n",
      " 30  minimum_minimum_nights                        33715 non-null  int64  \n",
      " 31  maximum_minimum_nights                        33715 non-null  int64  \n",
      " 32  minimum_maximum_nights                        33715 non-null  int64  \n",
      " 33  maximum_maximum_nights                        33715 non-null  int64  \n",
      " 34  minimum_nights_avg_ntm                        33715 non-null  float64\n",
      " 35  maximum_nights_avg_ntm                        33715 non-null  float64\n",
      " 36  availability_30                               33715 non-null  int64  \n",
      " 37  availability_60                               33715 non-null  int64  \n",
      " 38  availability_90                               33715 non-null  int64  \n",
      " 39  availability_365                              33715 non-null  int64  \n",
      " 40  number_of_reviews                             33715 non-null  int64  \n",
      " 41  number_of_reviews_ltm                         33715 non-null  int64  \n",
      " 42  review_scores_rating                          18293 non-null  float64\n",
      " 43  review_scores_accuracy                        18275 non-null  float64\n",
      " 44  review_scores_cleanliness                     18280 non-null  float64\n",
      " 45  review_scores_checkin                         18274 non-null  float64\n",
      " 46  review_scores_communication                   18280 non-null  float64\n",
      " 47  review_scores_location                        18277 non-null  float64\n",
      " 48  review_scores_value                           18278 non-null  float64\n",
      " 49  license                                       2 non-null      object \n",
      " 50  instant_bookable                              33715 non-null  int64  \n",
      " 51  cancellation_policy                           33715 non-null  object \n",
      " 52  require_guest_profile_picture                 33715 non-null  int64  \n",
      " 53  require_guest_phone_verification              33715 non-null  int64  \n",
      " 54  calculated_host_listings_count                33715 non-null  int64  \n",
      " 55  calculated_host_listings_count_entire_homes   33715 non-null  int64  \n",
      " 56  calculated_host_listings_count_private_rooms  33715 non-null  int64  \n",
      " 57  calculated_host_listings_count_shared_rooms   33715 non-null  int64  \n",
      " 58  reviews_per_month                             33715 non-null  float64\n",
      "dtypes: float64(23), int64(26), object(10)\n",
      "memory usage: 15.2+ MB\n"
     ]
    }
   ],
   "source": [
    "listings.info()"
   ]
  },
  {
   "cell_type": "markdown",
   "metadata": {},
   "source": [
    "Os valores de 'licence' e 'square_feet' possuem muitos valores nulos, portanto serão descartados."
   ]
  },
  {
   "cell_type": "code",
   "execution_count": 17,
   "metadata": {},
   "outputs": [],
   "source": [
    "drop_cols = ['license', 'square_feet']\n",
    "listings = listings.drop(drop_cols, axis=1)"
   ]
  },
  {
   "cell_type": "markdown",
   "metadata": {},
   "source": [
    "Como nossa ideia é prever a variável 'price', não podemos utilizar as variáveis 'weekly_price' e 'monthly_price'."
   ]
  },
  {
   "cell_type": "code",
   "execution_count": 18,
   "metadata": {},
   "outputs": [],
   "source": [
    "drop_cols = ['weekly_price', 'monthly_price']\n",
    "listings = listings.drop(drop_cols, axis=1)"
   ]
  },
  {
   "cell_type": "code",
   "execution_count": 19,
   "metadata": {},
   "outputs": [
    {
     "name": "stdout",
     "output_type": "stream",
     "text": [
      "55\n",
      "['id', 'host_response_time', 'host_response_rate', 'host_is_superhost', 'host_listings_count', 'host_total_listings_count', 'host_has_profile_pic', 'host_identity_verified', 'neighbourhood', 'latitude', 'longitude', 'is_location_exact', 'property_type', 'room_type', 'accommodates', 'bathrooms', 'bedrooms', 'beds', 'bed_type', 'amenities', 'price', 'security_deposit', 'cleaning_fee', 'guests_included', 'extra_people', 'minimum_nights', 'maximum_nights', 'minimum_minimum_nights', 'maximum_minimum_nights', 'minimum_maximum_nights', 'maximum_maximum_nights', 'minimum_nights_avg_ntm', 'maximum_nights_avg_ntm', 'availability_30', 'availability_60', 'availability_90', 'availability_365', 'number_of_reviews', 'number_of_reviews_ltm', 'review_scores_rating', 'review_scores_accuracy', 'review_scores_cleanliness', 'review_scores_checkin', 'review_scores_communication', 'review_scores_location', 'review_scores_value', 'instant_bookable', 'cancellation_policy', 'require_guest_profile_picture', 'require_guest_phone_verification', 'calculated_host_listings_count', 'calculated_host_listings_count_entire_homes', 'calculated_host_listings_count_private_rooms', 'calculated_host_listings_count_shared_rooms', 'reviews_per_month']\n"
     ]
    }
   ],
   "source": [
    "print(len(listings.columns))\n",
    "print(list(listings.columns))"
   ]
  },
  {
   "cell_type": "code",
   "execution_count": 20,
   "metadata": {},
   "outputs": [
    {
     "name": "stdout",
     "output_type": "stream",
     "text": [
      "<class 'pandas.core.frame.DataFrame'>\n",
      "RangeIndex: 33715 entries, 0 to 33714\n",
      "Data columns (total 55 columns):\n",
      " #   Column                                        Non-Null Count  Dtype  \n",
      "---  ------                                        --------------  -----  \n",
      " 0   id                                            33715 non-null  int64  \n",
      " 1   host_response_time                            21481 non-null  object \n",
      " 2   host_response_rate                            21481 non-null  float64\n",
      " 3   host_is_superhost                             33715 non-null  int64  \n",
      " 4   host_listings_count                           33695 non-null  float64\n",
      " 5   host_total_listings_count                     33695 non-null  float64\n",
      " 6   host_has_profile_pic                          33715 non-null  int64  \n",
      " 7   host_identity_verified                        33715 non-null  int64  \n",
      " 8   neighbourhood                                 31757 non-null  object \n",
      " 9   latitude                                      33715 non-null  float64\n",
      " 10  longitude                                     33715 non-null  float64\n",
      " 11  is_location_exact                             33715 non-null  int64  \n",
      " 12  property_type                                 33715 non-null  object \n",
      " 13  room_type                                     33715 non-null  object \n",
      " 14  accommodates                                  33715 non-null  int64  \n",
      " 15  bathrooms                                     33661 non-null  float64\n",
      " 16  bedrooms                                      33673 non-null  float64\n",
      " 17  beds                                          33667 non-null  float64\n",
      " 18  bed_type                                      33715 non-null  object \n",
      " 19  amenities                                     33715 non-null  object \n",
      " 20  price                                         33715 non-null  float64\n",
      " 21  security_deposit                              18935 non-null  float64\n",
      " 22  cleaning_fee                                  22731 non-null  float64\n",
      " 23  guests_included                               33715 non-null  int64  \n",
      " 24  extra_people                                  33715 non-null  float64\n",
      " 25  minimum_nights                                33715 non-null  int64  \n",
      " 26  maximum_nights                                33715 non-null  int64  \n",
      " 27  minimum_minimum_nights                        33715 non-null  int64  \n",
      " 28  maximum_minimum_nights                        33715 non-null  int64  \n",
      " 29  minimum_maximum_nights                        33715 non-null  int64  \n",
      " 30  maximum_maximum_nights                        33715 non-null  int64  \n",
      " 31  minimum_nights_avg_ntm                        33715 non-null  float64\n",
      " 32  maximum_nights_avg_ntm                        33715 non-null  float64\n",
      " 33  availability_30                               33715 non-null  int64  \n",
      " 34  availability_60                               33715 non-null  int64  \n",
      " 35  availability_90                               33715 non-null  int64  \n",
      " 36  availability_365                              33715 non-null  int64  \n",
      " 37  number_of_reviews                             33715 non-null  int64  \n",
      " 38  number_of_reviews_ltm                         33715 non-null  int64  \n",
      " 39  review_scores_rating                          18293 non-null  float64\n",
      " 40  review_scores_accuracy                        18275 non-null  float64\n",
      " 41  review_scores_cleanliness                     18280 non-null  float64\n",
      " 42  review_scores_checkin                         18274 non-null  float64\n",
      " 43  review_scores_communication                   18280 non-null  float64\n",
      " 44  review_scores_location                        18277 non-null  float64\n",
      " 45  review_scores_value                           18278 non-null  float64\n",
      " 46  instant_bookable                              33715 non-null  int64  \n",
      " 47  cancellation_policy                           33715 non-null  object \n",
      " 48  require_guest_profile_picture                 33715 non-null  int64  \n",
      " 49  require_guest_phone_verification              33715 non-null  int64  \n",
      " 50  calculated_host_listings_count                33715 non-null  int64  \n",
      " 51  calculated_host_listings_count_entire_homes   33715 non-null  int64  \n",
      " 52  calculated_host_listings_count_private_rooms  33715 non-null  int64  \n",
      " 53  calculated_host_listings_count_shared_rooms   33715 non-null  int64  \n",
      " 54  reviews_per_month                             33715 non-null  float64\n",
      "dtypes: float64(22), int64(26), object(7)\n",
      "memory usage: 14.1+ MB\n"
     ]
    }
   ],
   "source": [
    "listings.info()"
   ]
  },
  {
   "cell_type": "markdown",
   "metadata": {},
   "source": [
    "Notemos o que há dentro da variável 'amenities':"
   ]
  },
  {
   "cell_type": "code",
   "execution_count": 22,
   "metadata": {},
   "outputs": [
    {
     "data": {
      "text/plain": [
       "0    {TV,\"Cable TV\",Internet,Wifi,\"Air conditioning...\n",
       "1    {TV,\"Cable TV\",Internet,Wifi,\"Air conditioning...\n",
       "2    {TV,\"Cable TV\",Internet,Wifi,\"Air conditioning...\n",
       "3    {TV,\"Cable TV\",Internet,Wifi,\"Air conditioning...\n",
       "4    {TV,\"Cable TV\",Wifi,\"Air conditioning\",Kitchen...\n",
       "Name: amenities, dtype: object"
      ]
     },
     "execution_count": 22,
     "metadata": {},
     "output_type": "execute_result"
    }
   ],
   "source": [
    "listings['amenities'].head()"
   ]
  },
  {
   "cell_type": "markdown",
   "metadata": {},
   "source": [
    "Temos listados os equipamentos e adicionais disponíveis no aluguel. Esta variável poderia ser descartada, mas possui um potencial interessante de extração de features categoricas. Vamos então realizar esta extração."
   ]
  },
  {
   "cell_type": "code",
   "execution_count": null,
   "metadata": {},
   "outputs": [],
   "source": []
  },
  {
   "cell_type": "code",
   "execution_count": null,
   "metadata": {},
   "outputs": [],
   "source": []
  },
  {
   "cell_type": "code",
   "execution_count": null,
   "metadata": {},
   "outputs": [],
   "source": []
  },
  {
   "cell_type": "code",
   "execution_count": null,
   "metadata": {},
   "outputs": [],
   "source": []
  },
  {
   "cell_type": "markdown",
   "metadata": {},
   "source": [
    "Também, várias variáveis são dados categoricos. Para melhor lidar com eles, vamos utilizar o pd.dummies"
   ]
  },
  {
   "cell_type": "code",
   "execution_count": null,
   "metadata": {},
   "outputs": [],
   "source": []
  },
  {
   "cell_type": "code",
   "execution_count": null,
   "metadata": {},
   "outputs": [],
   "source": []
  },
  {
   "cell_type": "code",
   "execution_count": null,
   "metadata": {},
   "outputs": [],
   "source": [
    "tmp = listings['amenities'][0].replace('{','').replace('}','').replace('\"','')"
   ]
  },
  {
   "cell_type": "code",
   "execution_count": null,
   "metadata": {},
   "outputs": [],
   "source": [
    "tmp.split(',')"
   ]
  },
  {
   "cell_type": "code",
   "execution_count": null,
   "metadata": {},
   "outputs": [],
   "source": []
  },
  {
   "cell_type": "code",
   "execution_count": null,
   "metadata": {},
   "outputs": [],
   "source": [
    "sns.boxplot(listings['square_feet'])"
   ]
  },
  {
   "cell_type": "code",
   "execution_count": null,
   "metadata": {},
   "outputs": [],
   "source": [
    "plt.hist(listings['square_feet'], bins=50)"
   ]
  },
  {
   "cell_type": "code",
   "execution_count": null,
   "metadata": {},
   "outputs": [],
   "source": [
    "calendar[calendar['price'] != calendar['adjusted_price']]"
   ]
  },
  {
   "cell_type": "code",
   "execution_count": null,
   "metadata": {},
   "outputs": [],
   "source": [
    "listings['neighbourhood'].unique()"
   ]
  },
  {
   "cell_type": "code",
   "execution_count": null,
   "metadata": {},
   "outputs": [],
   "source": [
    "listings['room_type'].unique()"
   ]
  },
  {
   "cell_type": "code",
   "execution_count": null,
   "metadata": {},
   "outputs": [],
   "source": [
    "collections.Counter(listings['neighbourhood'])"
   ]
  },
  {
   "cell_type": "code",
   "execution_count": null,
   "metadata": {},
   "outputs": [],
   "source": [
    "sns.countplot(listings['room_type'])"
   ]
  },
  {
   "cell_type": "code",
   "execution_count": null,
   "metadata": {},
   "outputs": [],
   "source": []
  }
 ],
 "metadata": {
  "kernelspec": {
   "display_name": "Python 3",
   "language": "python",
   "name": "python3"
  },
  "language_info": {
   "codemirror_mode": {
    "name": "ipython",
    "version": 3
   },
   "file_extension": ".py",
   "mimetype": "text/x-python",
   "name": "python",
   "nbconvert_exporter": "python",
   "pygments_lexer": "ipython3",
   "version": "3.7.6"
  }
 },
 "nbformat": 4,
 "nbformat_minor": 4
}
